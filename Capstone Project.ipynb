{
    "cells": [
        {
            "metadata": {},
            "cell_type": "markdown",
            "source": "# <span style=\"color:darkblue\"> Introduction/Business Problem<span>"
        },
        {
            "metadata": {},
            "cell_type": "markdown",
            "source": "\n<span style=\"font-family:Times; font-size:1.5em; line-height: 1.5em; padding-bottom: 15px\">\n\nIt is a long-held tenet of economics that businesses often have a rational incentive to local nearby their competitors, rather than locate farther away from their competitors. Harold Hoteling (1929) outlined the rationale nearly a hundred years ago and emprical research over the years has found this the idea to hold true in many sectors. This idea of \"spatial economics\" consider how businesses can increase the segment the market that is closest to them by positioning themselves in the center of the geographic space. Each business has the same incentive, so they all tend to locate in the same central area.\n\nThe question I propose to examine in this project is whether different kinds of businesses (as labeled in the Foursquare data) cluster more closely than others. For example, do coffee shops locate nearer to each other in Toronto than do Italian restaurants. I propose to look at a number of different kinds of venues and calculate a mean distance measures for each. This will include calculating the center position of all the identified venues and then calculate the average distance from the venues to that center point.\n\nOnce I learn something about which venues cluster more closely than others do, I will check the results in another location. For example, I could start the analysis in Toronto and then compare results with Atlanta. This might tell me something about the way different cities are laid out or about how concentrated venues are in the two locations. \n\n\n</span>"
        },
        {
            "metadata": {},
            "cell_type": "markdown",
            "source": "# <span style=\"color:darkblue\"> Data Section <span>"
        },
        {
            "metadata": {},
            "cell_type": "markdown",
            "source": "<span style=\"font-family:Times; font-size:1.5em; line-height: 1.5em; padding-bottom: 15px\">\n    \nFor this analysis I will use maps from Folium, venue data from Foursquare, the Wikipedia list of postal codes of Canada, and a list of Atlanta zip codes and neighborhood names from https://www.realsourcebrokers.com/atlanta-zip-code-map/. I will use BeautifulSoup to scrape the pages, geopy to calculate distances with latitudes and longitudes, and will use Folium maps to show how dispersed or clustered the different kinds of venues are. I will calculate a mean distance of all the venues retrieved from Folio and will compare those mean distances across venue type. I will plot the venues on a map with the center identified as well so that the clustering or spread of venues can be seen visually. It may be that some kinds of venues do cluster, but do not form a single cluster. The map representation will help determine whether there might be more than one location venues are centering on. It could also be that some different kinds of venues center on similar locations. Downtown areas versus suburban areas might also demonstrate different kinds of location clustering. \n    \nThe results of this data might help (a) someone starting a new business who could use the results to find the best location, (b) somone looking to move who wants to be in a neighborhood with a concentration of a particular kind of venue, or (3) an industry group or association that might be able to tell its members something about which areas are saturated and which areas could sustain addtional businesses. \n    \n</span>"
        },
        {
            "metadata": {},
            "cell_type": "code",
            "source": "",
            "execution_count": null,
            "outputs": []
        }
    ],
    "metadata": {
        "kernelspec": {
            "name": "python3",
            "display_name": "Python 3.6",
            "language": "python"
        },
        "language_info": {
            "name": "python",
            "version": "3.6.9",
            "mimetype": "text/x-python",
            "codemirror_mode": {
                "name": "ipython",
                "version": 3
            },
            "pygments_lexer": "ipython3",
            "nbconvert_exporter": "python",
            "file_extension": ".py"
        }
    },
    "nbformat": 4,
    "nbformat_minor": 1
}